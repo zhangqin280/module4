{
 "cells": [
  {
   "cell_type": "markdown",
   "metadata": {},
   "source": [
    "Exercise 1: Make an empty list and call it names"
   ]
  },
  {
   "cell_type": "code",
   "execution_count": 1,
   "metadata": {},
   "outputs": [
    {
     "name": "stdout",
     "output_type": "stream",
     "text": [
      "[]\n"
     ]
    }
   ],
   "source": [
    "test_list=[]\n",
    "print(test_list)"
   ]
  },
  {
   "cell_type": "markdown",
   "metadata": {},
   "source": [
    "Exercise 2: Make names filled with names of 5 people: Hannah, Victor, Sam, James, Sarah"
   ]
  },
  {
   "cell_type": "code",
   "execution_count": 3,
   "metadata": {},
   "outputs": [
    {
     "name": "stdout",
     "output_type": "stream",
     "text": [
      "['Hannah', 'Victor', 'Sam', 'James', 'Sarah']\n"
     ]
    }
   ],
   "source": [
    "test_list=[\"Hannah\", \"Victor\", \"Sam\",\"James\",\"Sarah\"]\n",
    "print(test_list)"
   ]
  },
  {
   "cell_type": "code",
   "execution_count": null,
   "metadata": {},
   "outputs": [],
   "source": []
  },
  {
   "cell_type": "markdown",
   "metadata": {},
   "source": [
    "Exercise 3: Make names sort in reverse. Print out the list using a for-loop"
   ]
  },
  {
   "cell_type": "code",
   "execution_count": 15,
   "metadata": {},
   "outputs": [
    {
     "name": "stdout",
     "output_type": "stream",
     "text": [
      "['Victor', 'Sarah', 'Sam', 'James', 'Hannah']\n",
      "Victor\n",
      "Sarah\n",
      "Sam\n",
      "James\n",
      "Hannah\n"
     ]
    }
   ],
   "source": [
    "#import sys\n",
    "ind_list=[0,1,2,3,4]\n",
    "test_list=[\"Hannah\", \"Victor\", \"Sam\",\"James\",\"Sarah\"]\n",
    "r_list=sorted(test_list,reverse=True)\n",
    "print(r_list)\n",
    "for i in ind_list:\n",
    "    print(r_list[i])"
   ]
  },
  {
   "cell_type": "markdown",
   "metadata": {},
   "source": [
    "Exercise 4: Make names sorted alphabetically. Print out the list using while loop"
   ]
  },
  {
   "cell_type": "code",
   "execution_count": 17,
   "metadata": {},
   "outputs": [
    {
     "name": "stdout",
     "output_type": "stream",
     "text": [
      "Victor\n",
      "Sarah\n",
      "Sam\n",
      "James\n",
      "Hannah\n"
     ]
    }
   ],
   "source": [
    "test_list=[\"Hannah\", \"Victor\", \"Sam\",\"James\",\"Sarah\"]\n",
    "r_list=sorted(test_list,reverse=True)\n",
    "i=0\n",
    "while i <=4:\n",
    "    print(r_list[i])\n",
    "    i+=1"
   ]
  },
  {
   "cell_type": "markdown",
   "metadata": {},
   "source": [
    "Exercise 5: Pull out the fourth item from names and print it out"
   ]
  },
  {
   "cell_type": "code",
   "execution_count": 19,
   "metadata": {},
   "outputs": [
    {
     "name": "stdout",
     "output_type": "stream",
     "text": [
      "James\n"
     ]
    }
   ],
   "source": [
    "name=test_list[3]\n",
    "print(name)"
   ]
  },
  {
   "cell_type": "markdown",
   "metadata": {},
   "source": [
    "Exercise 6: Pull out the first item from names and print it out"
   ]
  },
  {
   "cell_type": "code",
   "execution_count": 20,
   "metadata": {},
   "outputs": [
    {
     "name": "stdout",
     "output_type": "stream",
     "text": [
      "Hannah\n"
     ]
    }
   ],
   "source": [
    "name=test_list[0]\n",
    "print(name)"
   ]
  },
  {
   "cell_type": "markdown",
   "metadata": {},
   "source": [
    "Exercise 7: Make a variable named fruits that contains a string \"Apples, Oranges, Bananas, Pineapples, Persimmons, Dragonfruit\" and make it into a list splitting it by the commas."
   ]
  },
  {
   "cell_type": "code",
   "execution_count": 26,
   "metadata": {},
   "outputs": [
    {
     "name": "stdout",
     "output_type": "stream",
     "text": [
      "['Apples', ' Oranges', ' Bananas', ' Pineapples', ' Persimmons', ' Dragonfruit']\n"
     ]
    }
   ],
   "source": [
    "import sys\n",
    "fruits=\"Apples, Oranges, Bananas, Pineapples, Persimmons, Dragonfruit\"\n",
    "\n",
    "#fruits=[\"Apples\", \"Oranges\", \"Bananas\", \"Pineapples\", \"Persimmons\", \"Dragonfruit\"]\n",
    "new_list=fruits.split(',')\n",
    "print(new_list)"
   ]
  },
  {
   "cell_type": "markdown",
   "metadata": {},
   "source": [
    "Exercise 8: Create a list of the first 10 square numbers. i.e. the square of each integer from 1 to 10. "
   ]
  },
  {
   "cell_type": "code",
   "execution_count": 30,
   "metadata": {},
   "outputs": [
    {
     "name": "stdout",
     "output_type": "stream",
     "text": [
      "[1, 2, 3, 4, 5, 6, 7, 8, 9, 10]\n"
     ]
    }
   ],
   "source": [
    "dig_list=[]\n",
    "i=0\n",
    "while i <10:\n",
    "    dig=i+1\n",
    "    dig_list.append(dig)\n",
    "    i+=1\n",
    "print(dig_list)\n",
    "    "
   ]
  },
  {
   "cell_type": "markdown",
   "metadata": {},
   "source": [
    "Exercise 9: Create a multiplication table from 1 to 10"
   ]
  },
  {
   "cell_type": "code",
   "execution_count": 101,
   "metadata": {},
   "outputs": [
    {
     "name": "stdout",
     "output_type": "stream",
     "text": [
      "['1 x 1 = 1']\n",
      "['2 x 1 = 2', '2 x 2 = 4']\n",
      "['3 x 1 = 3', '3 x 2 = 6', '3 x 3 = 9']\n",
      "['4 x 1 = 4', '4 x 2 = 8', '4 x 3 = 12', '4 x 4 = 16']\n",
      "['5 x 1 = 5', '5 x 2 = 10', '5 x 3 = 15', '5 x 4 = 20', '5 x 5 = 25']\n",
      "['6 x 1 = 6', '6 x 2 = 12', '6 x 3 = 18', '6 x 4 = 24', '6 x 5 = 30', '6 x 6 = 36']\n",
      "['7 x 1 = 7', '7 x 2 = 14', '7 x 3 = 21', '7 x 4 = 28', '7 x 5 = 35', '7 x 6 = 42', '7 x 7 = 49']\n",
      "['8 x 1 = 8', '8 x 2 = 16', '8 x 3 = 24', '8 x 4 = 32', '8 x 5 = 40', '8 x 6 = 48', '8 x 7 = 56', '8 x 8 = 64']\n",
      "['9 x 1 = 9', '9 x 2 = 18', '9 x 3 = 27', '9 x 4 = 36', '9 x 5 = 45', '9 x 6 = 54', '9 x 7 = 63', '9 x 8 = 72', '9 x 9 = 81']\n"
     ]
    }
   ],
   "source": [
    "dig_list=[]\n",
    "\n",
    "\n",
    "def multplit(a,b):\n",
    "    return a*b\n",
    "\n",
    "i=1\n",
    "while i <= 9:\n",
    "    num=i\n",
    "    num_list=[]\n",
    "#    print(num)\n",
    "    j=1\n",
    "    while j <= i:\n",
    "        c=multplit(num,j)\n",
    "#        print(c)\n",
    "        mystr=\"a x b = c\"\n",
    "        astr=str(num)\n",
    "#        print(astr)\n",
    "        new=mystr.replace(mystr[0],astr)\n",
    "        bstr=str(j)\n",
    "#        print(bstr)\n",
    "        new=new.replace(new[4],bstr)\n",
    "        cstr=str(c)\n",
    "        new=new.replace(new[8],cstr)\n",
    "\n",
    "        j+=1\n",
    "        \n",
    "        num_list.append(new)\n",
    "    print(num_list)\n",
    "\n",
    "    i+=1\n",
    "\n"
   ]
  },
  {
   "cell_type": "markdown",
   "metadata": {},
   "source": [
    "Exercise 10: Write a program that gets test scores from a user and then calculates and displays the average of the scores that have been enter. The output of the program should show the original scores and the average. "
   ]
  },
  {
   "cell_type": "code",
   "execution_count": 106,
   "metadata": {},
   "outputs": [
    {
     "name": "stdout",
     "output_type": "stream",
     "text": [
      "How many scores you have? 5\n",
      "Enter score: 99\n",
      "Enter score: 90\n",
      "Enter score: 86\n",
      "Enter score: 98\n",
      "Enter score: 87\n",
      "The scores are:  [99, 90, 86, 98, 87]\n",
      "The average is  92.0\n"
     ]
    }
   ],
   "source": [
    "def ave(num):\n",
    "    sum=0\n",
    "    for i in num:\n",
    "        sum=sum+i\n",
    "    ave=sum/len(num)\n",
    "    return ave\n",
    "    \n",
    "score_list=[]\n",
    "n=int(input(\"How many scores you have? \"))\n",
    "if n>0 and n<10:\n",
    "    for i in range(n):\n",
    "        score=int(input(\"Enter score: \"))\n",
    "        if score>0 and score<=100:\n",
    "            score_list.append(score)\n",
    "        else:\n",
    "            print(\"ERROR\")\n",
    "    avg=ave(score_list)\n",
    "    print(\"The scores are: \",score_list)\n",
    "    print(\"The average is \",avg)\n",
    "else:\n",
    "    print(\"ERROR\")"
   ]
  },
  {
   "cell_type": "markdown",
   "metadata": {},
   "source": [
    "Challenge:\n",
    "Write a program that maintains a list of movies, and the user can list all the movies, add a movie to the list, or delete a movie from the list.\n",
    "\n",
    "Example\n",
    "\n",
    "###### COMMAND MENU\n",
    "```\n",
    "list - list all movies\n",
    "add - add a movie\n",
    "del - delete a movie\n",
    "exit - exit program \n",
    "```\n",
    "\n",
    "###### Command: list\n",
    "``` \n",
    " 1. Toy Story\n",
    " 2. Lion King\n",
    " 3. Frozen\n",
    " ```\n",
    "\n",
    "###### Command: add\n",
    " ```\n",
    " Name: Snow White\n",
    " Snow White was added.\n",
    " ```\n",
    "\n",
    "###### Command: del\n",
    "```\n",
    " Number: 3\n",
    " Frozen was deleted.```\n",
    "\n"
   ]
  },
  {
   "cell_type": "code",
   "execution_count": null,
   "metadata": {},
   "outputs": [],
   "source": []
  },
  {
   "cell_type": "code",
   "execution_count": null,
   "metadata": {},
   "outputs": [],
   "source": []
  }
 ],
 "metadata": {
  "kernelspec": {
   "display_name": "Python 3",
   "language": "python",
   "name": "python3"
  },
  "language_info": {
   "codemirror_mode": {
    "name": "ipython",
    "version": 3
   },
   "file_extension": ".py",
   "mimetype": "text/x-python",
   "name": "python",
   "nbconvert_exporter": "python",
   "pygments_lexer": "ipython3",
   "version": "3.8.8"
  }
 },
 "nbformat": 4,
 "nbformat_minor": 4
}
